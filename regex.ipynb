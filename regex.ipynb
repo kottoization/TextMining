{
  "cells": [
    {
      "cell_type": "markdown",
      "metadata": {
        "id": "npDHR9kBylu3"
      },
      "source": [
        "## Wprowadzenie\n",
        "\n",
        "Wyrażenia regularne (ang. *regular expressions*, Regex) to specjalne wzorce, które pozwalają na wyszukiwanie, dopasowywanie i manipulowanie tekstem. Są one niezwykle przydatne przy pracy z danymi tekstowymi.\n",
        "\n",
        "W Pythonie możemy korzystać z wyrażeń regularnych za pomocą modułu `re`.\n",
        "\n",
        "### Importowanie modułu `re`\n"
      ]
    },
    {
      "cell_type": "code",
      "execution_count": 1,
      "metadata": {
        "id": "BG6Kn4RYylu5"
      },
      "outputs": [],
      "source": [
        "\n",
        "import re"
      ]
    },
    {
      "cell_type": "markdown",
      "metadata": {
        "id": "3kD9s3XFylu7"
      },
      "source": [
        "\n",
        "## Podstawowe funkcjonalności wyrażeń regularnych\n",
        "\n",
        "### Dopasowanie prostego wzorca\n",
        "\n",
        "Metoda `re.match()` sprawdza, czy ciąg znaków zaczyna się od wzorca.\n"
      ]
    },
    {
      "cell_type": "code",
      "execution_count": 2,
      "metadata": {
        "colab": {
          "base_uri": "https://localhost:8080/"
        },
        "id": "DaLJvqcXylu8",
        "outputId": "0326d0af-84f5-45e6-dd09-cf81de58f2e4"
      },
      "outputs": [
        {
          "output_type": "stream",
          "name": "stdout",
          "text": [
            "Znaleziono dopasowanie: Python\n"
          ]
        }
      ],
      "source": [
        "\n",
        "tekst = \"Python jest świetny!\"\n",
        "dopasowanie = re.match(r\"Python\", tekst)\n",
        "\n",
        "if dopasowanie:\n",
        "    print(\"Znaleziono dopasowanie:\", dopasowanie.group())\n",
        "else:\n",
        "    print(\"Nie znaleziono dopasowania.\")\n"
      ]
    },
    {
      "cell_type": "markdown",
      "metadata": {
        "id": "6fmh5Uz6ylu9"
      },
      "source": [
        "\n",
        "### Wyszukiwanie wzorca w tekście\n",
        "\n",
        "Metoda `re.search()` przeszukuje cały ciąg znaków w poszukiwaniu dopasowania.\n"
      ]
    },
    {
      "cell_type": "code",
      "execution_count": 3,
      "metadata": {
        "colab": {
          "base_uri": "https://localhost:8080/"
        },
        "id": "c-Hu_jvBylu-",
        "outputId": "1af3b6ab-7a2d-4f5b-ca92-52840a455f9b"
      },
      "outputs": [
        {
          "output_type": "stream",
          "name": "stdout",
          "text": [
            "Znaleziono dopasowanie: Python\n"
          ]
        }
      ],
      "source": [
        "\n",
        "tekst = \"Lubię programować w Pythonie\"\n",
        "dopasowanie = re.search(r\"Python\", tekst)\n",
        "\n",
        "if dopasowanie:\n",
        "    print(\"Znaleziono dopasowanie:\", dopasowanie.group())\n",
        "else:\n",
        "    print(\"Nie znaleziono dopasowania.\")"
      ]
    },
    {
      "cell_type": "markdown",
      "metadata": {
        "id": "Ktv_XaAaylu-"
      },
      "source": [
        "\n",
        "### Znajdowanie wszystkich wystąpień wzorca\n",
        "\n",
        "Metoda `re.findall()` zwraca wszystkie wystąpienia wzorca w tekście.\n"
      ]
    },
    {
      "cell_type": "code",
      "execution_count": 4,
      "metadata": {
        "colab": {
          "base_uri": "https://localhost:8080/"
        },
        "id": "GeEXTN5Jylu_",
        "outputId": "cbd700f8-c0ad-4c87-899d-cd8e7f9a6b24"
      },
      "outputs": [
        {
          "output_type": "stream",
          "name": "stdout",
          "text": [
            "Znalezione dopasowania: ['Python', 'Python']\n"
          ]
        }
      ],
      "source": [
        "\n",
        "tekst = \"Python to język programowania. W Pythonie można pisać skrypty.\"\n",
        "wszystkie_dopasowania = re.findall(r\"Python\", tekst)\n",
        "\n",
        "print(\"Znalezione dopasowania:\", wszystkie_dopasowania)\n"
      ]
    },
    {
      "cell_type": "markdown",
      "metadata": {
        "id": "_8Qa5JlnylvA"
      },
      "source": [
        "\n",
        "### Zamiana wzorca na inny tekst\n",
        "\n",
        "Metoda `re.sub()` służy do zamiany wzorca na inny ciąg znaków.\n"
      ]
    },
    {
      "cell_type": "code",
      "execution_count": 5,
      "metadata": {
        "colab": {
          "base_uri": "https://localhost:8080/"
        },
        "id": "BSixvMl1ylvB",
        "outputId": "022e3ee6-dc6a-4714-8d2f-b8df4a0604b4"
      },
      "outputs": [
        {
          "output_type": "stream",
          "name": "stdout",
          "text": [
            "Tekst po zamianie: Język Java jest prosty.\n"
          ]
        }
      ],
      "source": [
        "\n",
        "tekst = \"Język Python jest prosty.\"\n",
        "nowy_tekst = re.sub(r\"Python\", \"Java\", tekst)\n",
        "\n",
        "print(\"Tekst po zamianie:\", nowy_tekst)"
      ]
    },
    {
      "cell_type": "markdown",
      "metadata": {
        "id": "_z4xNGsAylvB"
      },
      "source": [
        "\n",
        "## Znaczenie niektórych znaków specjalnych\n",
        "\n",
        "Wyrażenia regularne korzystają ze znaków specjalnych, które mają specjalne znaczenie:\n",
        "\n",
        "- `.` - Dowolny znak (poza nową linią).\n",
        "- `^` - Początek ciągu.\n",
        "- `$` - Koniec ciągu.\n",
        "- `*` - Zero lub więcej wystąpień poprzedniego znaku.\n",
        "- `+` - Jedno lub więcej wystąpień poprzedniego znaku.\n",
        "- `[]` - Dowolny znak z podanego zakresu.\n",
        "- `|` - Operator \"lub\".\n",
        "- `()` - Grupowanie wyrażeń.\n",
        "\n",
        "### Przykład z grupowaniem\n"
      ]
    },
    {
      "cell_type": "code",
      "execution_count": null,
      "metadata": {
        "id": "4MegeZGAylvC",
        "outputId": "33eafede-a9da-4b43-c52d-a3eb1df73f78"
      },
      "outputs": [
        {
          "name": "stdout",
          "output_type": "stream",
          "text": [
            "Rok: 2024\n",
            "Miesiąc: 10\n",
            "Dzień: 02\n"
          ]
        }
      ],
      "source": [
        "\n",
        "tekst = \"2024-10-02\"\n",
        "wzorzec = r\"(\\d{4})-(\\d{2})-(\\d{2})\"\n",
        "dopasowanie = re.match(wzorzec, tekst)\n",
        "\n",
        "if dopasowanie:\n",
        "    print(\"Rok:\", dopasowanie.group(1))\n",
        "    print(\"Miesiąc:\", dopasowanie.group(2))\n",
        "    print(\"Dzień:\", dopasowanie.group(3))\n"
      ]
    },
    {
      "cell_type": "markdown",
      "metadata": {
        "id": "kMwRbvLaylvC"
      },
      "source": [
        "\n",
        "## Zadania do samodzielnego rozwiązania\n",
        "\n",
        "1. **Zadanie 1**: Znajdź wszystkie adresy e-mail w  tekście\n",
        "2. **Zadanie 2**: W tekście zamień wszystkie liczby na słowo \"[LICZBA]\"\n",
        "3. **Zadanie 3**: Sprawdź, czy podany numer telefonu jest w formacie XXX-XXX-XXX (gdzie X to cyfra)\n",
        "4. **Zadanie 4**: Wyszukaj wszystkie słowa, które zaczynają się od litery \"P\" w  tekście\n",
        "5. **Zadanie 5**: Podziel tekst na części, oddzielając go po znakach interpunkcyjnych\n",
        "\n"
      ]
    },
    {
      "cell_type": "markdown",
      "source": [
        "Mateusz Mulka IiE Rok 2 - 402232"
      ],
      "metadata": {
        "id": "0qtaT9eF2J0P"
      }
    },
    {
      "cell_type": "markdown",
      "source": [
        "Zadanie 1\n"
      ],
      "metadata": {
        "id": "RouQ6c4a0Opn"
      }
    },
    {
      "cell_type": "code",
      "source": [
        "def find_emails(text):\n",
        "    email_pattern = r'[a-zA-Z0-9_.+-]+@[a-zA-Z0-9-]+\\.[a-zA-Z0-9-.]+'\n",
        "    emails = re.findall(email_pattern, text)\n",
        "    return emails\n",
        "\n",
        "text = \" aadfdasfdasf a1@gmail.com  dfasdfasdfasdfasdfas  a2@gmail.com\"\n",
        "\n",
        "print(find_emails(text))"
      ],
      "metadata": {
        "colab": {
          "base_uri": "https://localhost:8080/"
        },
        "id": "VLzh53xe0P2i",
        "outputId": "cd018f41-5f96-4257-d0ca-4355b873b0ed"
      },
      "execution_count": 10,
      "outputs": [
        {
          "output_type": "stream",
          "name": "stdout",
          "text": [
            "['a1@gmail.com', 'a2@gmail.com']\n"
          ]
        }
      ]
    },
    {
      "cell_type": "markdown",
      "source": [
        "Zadanie 2\n"
      ],
      "metadata": {
        "id": "KdybkwKN1_EC"
      }
    },
    {
      "cell_type": "code",
      "source": [
        "def replace_numbers(text):\n",
        "    number_pattern = r'\\d+'\n",
        "    result = re.sub(number_pattern, '[LICZBA]', text)\n",
        "    print(\"\\nTekst po zamianie liczb na [LICZBA]:\\n\", result)\n",
        "    return result\n",
        "\n",
        "text = \" test 2132 te34fdasfasdf2  0 0 0 test test\"\n",
        "\n",
        "print(replace_numbers(text))"
      ],
      "metadata": {
        "colab": {
          "base_uri": "https://localhost:8080/"
        },
        "id": "QJXU79fM2AUP",
        "outputId": "18b2d570-c976-48f2-9057-b5215c3ac6f9"
      },
      "execution_count": 11,
      "outputs": [
        {
          "output_type": "stream",
          "name": "stdout",
          "text": [
            "\n",
            "Tekst po zamianie liczb na [LICZBA]:\n",
            "  test [LICZBA] te[LICZBA]fdasfasdf[LICZBA]  [LICZBA] [LICZBA] [LICZBA] test test\n",
            " test [LICZBA] te[LICZBA]fdasfasdf[LICZBA]  [LICZBA] [LICZBA] [LICZBA] test test\n"
          ]
        }
      ]
    },
    {
      "cell_type": "markdown",
      "source": [
        "Zadanie 3\n"
      ],
      "metadata": {
        "id": "8-aulcRz2Zir"
      }
    },
    {
      "cell_type": "code",
      "source": [
        "def is_valid_phone_number(phone_number):\n",
        "    phone_pattern = r'^\\d{3}-\\d{3}-\\d{3}$'\n",
        "    is_valid = bool(re.match(phone_pattern, phone_number))\n",
        "    print(f\"\\nCzy numer telefonu '{phone_number}' jest poprawny? {is_valid}\")\n",
        "\n",
        "\n",
        "text = \"123-456-789\"\n",
        "text1 = \"123456789\"\n",
        "\n",
        "is_valid_phone_number(text)\n",
        "is_valid_phone_number(text1)"
      ],
      "metadata": {
        "colab": {
          "base_uri": "https://localhost:8080/"
        },
        "id": "nxQS0Fin2acS",
        "outputId": "13e6e535-bb4a-4a7b-88fa-809f0da91d93"
      },
      "execution_count": 12,
      "outputs": [
        {
          "output_type": "stream",
          "name": "stdout",
          "text": [
            "\n",
            "Czy numer telefonu '123-456-789' jest poprawny? True\n",
            "\n",
            "Czy numer telefonu '123456789' jest poprawny? False\n"
          ]
        }
      ]
    },
    {
      "cell_type": "markdown",
      "source": [
        "Zadanie 4"
      ],
      "metadata": {
        "id": "T8TfAM4L2tih"
      }
    },
    {
      "cell_type": "code",
      "source": [
        "def find_words_starting_with_p(text):\n",
        "    p_word_pattern = r'\\b[Pp]\\w*'\n",
        "    p_words = re.findall(p_word_pattern, text)\n",
        "    print(\"\\nSłowa zaczynające się na literę 'P':\", p_words)\n",
        "\n",
        "text = \" Ala ma kota i papuge, kot ma Ale, parasol i rolki, a papuga nie ma nic przydatnego.\"\n",
        "\n",
        "find_words_starting_with_p(text)\n",
        "\n"
      ],
      "metadata": {
        "colab": {
          "base_uri": "https://localhost:8080/"
        },
        "id": "RzBTCyD92vTl",
        "outputId": "864cef5b-f574-43a5-efb6-6c46f35bd5b2"
      },
      "execution_count": 15,
      "outputs": [
        {
          "output_type": "stream",
          "name": "stdout",
          "text": [
            "\n",
            "Słowa zaczynające się na literę 'P': ['papuge', 'parasol', 'papuga', 'przydatnego']\n"
          ]
        }
      ]
    },
    {
      "cell_type": "markdown",
      "source": [
        "Zadanie 5\n",
        "\n"
      ],
      "metadata": {
        "id": "tsnea-NV3tpB"
      }
    },
    {
      "cell_type": "code",
      "source": [
        "def split_by_punctuation(text):\n",
        "    punctuation_pattern = r'[,;.!?]'\n",
        "    parts = re.split(punctuation_pattern, text)\n",
        "    print(\"\\nTekst podzielony po znakach interpunkcyjnych:\", parts)\n",
        "    #return parts\n",
        "\n",
        "text = \" Ala, ma kota kot ma; Ale ale tata ! nie ma nowego zdania. czemu?\"\n",
        "split_by_punctuation(text)"
      ],
      "metadata": {
        "colab": {
          "base_uri": "https://localhost:8080/"
        },
        "id": "RzsSy8UD3uZw",
        "outputId": "c06ff0f3-f0a8-4f3c-b214-5407d63bda49"
      },
      "execution_count": 18,
      "outputs": [
        {
          "output_type": "stream",
          "name": "stdout",
          "text": [
            "\n",
            "Tekst podzielony po znakach interpunkcyjnych: [' Ala', ' ma kota kot ma', ' Ale ale tata ', ' nie ma nowego zdania', ' czemu', '']\n"
          ]
        }
      ]
    }
  ],
  "metadata": {
    "kernelspec": {
      "display_name": "Python 3",
      "language": "python",
      "name": "python3"
    },
    "language_info": {
      "codemirror_mode": {
        "name": "ipython",
        "version": 3
      },
      "file_extension": ".py",
      "mimetype": "text/x-python",
      "name": "python",
      "nbconvert_exporter": "python",
      "pygments_lexer": "ipython3",
      "version": "3.11.9"
    },
    "colab": {
      "provenance": []
    }
  },
  "nbformat": 4,
  "nbformat_minor": 0
}