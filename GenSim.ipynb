{
  "nbformat": 4,
  "nbformat_minor": 0,
  "metadata": {
    "colab": {
      "provenance": []
    },
    "kernelspec": {
      "name": "python3",
      "display_name": "Python 3"
    },
    "language_info": {
      "name": "python"
    }
  },
  "cells": [
    {
      "cell_type": "markdown",
      "source": [
        "# 1. Przeprowadzić analizę podobieństwa wybranych rozdziałów\n",
        "Wybrać po kilka rozdziałów z „Anna Karenina” i „Jane Eyre” i przeanalizować ich podobieństwo za pomocą metod opartych na wektorach tekstu (np. TF-IDF lub Word2Vec). Określić, które rozdziały wykazują największe podobieństwo pod względem stylu lub treści."
      ],
      "metadata": {
        "id": "NC1ezqhwqwEt"
      }
    },
    {
      "cell_type": "code",
      "source": [
        "!pip install Cython\n",
        "!pip install --upgrade --force-reinstall gensim"
      ],
      "metadata": {
        "colab": {
          "base_uri": "https://localhost:8080/",
          "height": 894
        },
        "id": "Nuss0wfqrFrT",
        "outputId": "2fbada2f-899b-481a-e678-5b5e16480622"
      },
      "execution_count": 3,
      "outputs": [
        {
          "output_type": "stream",
          "name": "stdout",
          "text": [
            "Requirement already satisfied: Cython in /usr/local/lib/python3.10/dist-packages (3.0.11)\n",
            "Collecting gensim\n",
            "  Downloading gensim-4.3.3-cp310-cp310-manylinux_2_17_x86_64.manylinux2014_x86_64.whl.metadata (8.2 kB)\n",
            "Collecting numpy<2.0,>=1.18.5 (from gensim)\n",
            "  Downloading numpy-1.26.4-cp310-cp310-manylinux_2_17_x86_64.manylinux2014_x86_64.whl.metadata (61 kB)\n",
            "\u001b[2K     \u001b[90m━━━━━━━━━━━━━━━━━━━━━━━━━━━━━━━━━━━━━━━━\u001b[0m \u001b[32m61.0/61.0 kB\u001b[0m \u001b[31m3.1 MB/s\u001b[0m eta \u001b[36m0:00:00\u001b[0m\n",
            "\u001b[?25hCollecting scipy<1.14.0,>=1.7.0 (from gensim)\n",
            "  Downloading scipy-1.13.1-cp310-cp310-manylinux_2_17_x86_64.manylinux2014_x86_64.whl.metadata (60 kB)\n",
            "\u001b[2K     \u001b[90m━━━━━━━━━━━━━━━━━━━━━━━━━━━━━━━━━━━━━━━━\u001b[0m \u001b[32m60.6/60.6 kB\u001b[0m \u001b[31m3.2 MB/s\u001b[0m eta \u001b[36m0:00:00\u001b[0m\n",
            "\u001b[?25hCollecting smart-open>=1.8.1 (from gensim)\n",
            "  Downloading smart_open-7.0.5-py3-none-any.whl.metadata (24 kB)\n",
            "Collecting wrapt (from smart-open>=1.8.1->gensim)\n",
            "  Downloading wrapt-1.16.0-cp310-cp310-manylinux_2_5_x86_64.manylinux1_x86_64.manylinux_2_17_x86_64.manylinux2014_x86_64.whl.metadata (6.6 kB)\n",
            "Downloading gensim-4.3.3-cp310-cp310-manylinux_2_17_x86_64.manylinux2014_x86_64.whl (26.5 MB)\n",
            "\u001b[2K   \u001b[90m━━━━━━━━━━━━━━━━━━━━━━━━━━━━━━━━━━━━━━━━\u001b[0m \u001b[32m26.5/26.5 MB\u001b[0m \u001b[31m58.7 MB/s\u001b[0m eta \u001b[36m0:00:00\u001b[0m\n",
            "\u001b[?25hDownloading numpy-1.26.4-cp310-cp310-manylinux_2_17_x86_64.manylinux2014_x86_64.whl (18.2 MB)\n",
            "\u001b[2K   \u001b[90m━━━━━━━━━━━━━━━━━━━━━━━━━━━━━━━━━━━━━━━━\u001b[0m \u001b[32m18.2/18.2 MB\u001b[0m \u001b[31m69.9 MB/s\u001b[0m eta \u001b[36m0:00:00\u001b[0m\n",
            "\u001b[?25hDownloading scipy-1.13.1-cp310-cp310-manylinux_2_17_x86_64.manylinux2014_x86_64.whl (38.6 MB)\n",
            "\u001b[2K   \u001b[90m━━━━━━━━━━━━━━━━━━━━━━━━━━━━━━━━━━━━━━━━\u001b[0m \u001b[32m38.6/38.6 MB\u001b[0m \u001b[31m15.2 MB/s\u001b[0m eta \u001b[36m0:00:00\u001b[0m\n",
            "\u001b[?25hDownloading smart_open-7.0.5-py3-none-any.whl (61 kB)\n",
            "\u001b[2K   \u001b[90m━━━━━━━━━━━━━━━━━━━━━━━━━━━━━━━━━━━━━━━━\u001b[0m \u001b[32m61.4/61.4 kB\u001b[0m \u001b[31m3.8 MB/s\u001b[0m eta \u001b[36m0:00:00\u001b[0m\n",
            "\u001b[?25hDownloading wrapt-1.16.0-cp310-cp310-manylinux_2_5_x86_64.manylinux1_x86_64.manylinux_2_17_x86_64.manylinux2014_x86_64.whl (80 kB)\n",
            "\u001b[2K   \u001b[90m━━━━━━━━━━━━━━━━━━━━━━━━━━━━━━━━━━━━━━━━\u001b[0m \u001b[32m80.3/80.3 kB\u001b[0m \u001b[31m5.1 MB/s\u001b[0m eta \u001b[36m0:00:00\u001b[0m\n",
            "\u001b[?25hInstalling collected packages: wrapt, numpy, smart-open, scipy, gensim\n",
            "  Attempting uninstall: wrapt\n",
            "    Found existing installation: wrapt 1.16.0\n",
            "    Uninstalling wrapt-1.16.0:\n",
            "      Successfully uninstalled wrapt-1.16.0\n",
            "  Attempting uninstall: numpy\n",
            "    Found existing installation: numpy 1.26.4\n",
            "    Uninstalling numpy-1.26.4:\n",
            "      Successfully uninstalled numpy-1.26.4\n",
            "  Attempting uninstall: smart-open\n",
            "    Found existing installation: smart-open 7.0.5\n",
            "    Uninstalling smart-open-7.0.5:\n",
            "      Successfully uninstalled smart-open-7.0.5\n",
            "  Attempting uninstall: scipy\n",
            "    Found existing installation: scipy 1.13.1\n",
            "    Uninstalling scipy-1.13.1:\n",
            "      Successfully uninstalled scipy-1.13.1\n",
            "  Attempting uninstall: gensim\n",
            "    Found existing installation: gensim 4.3.3\n",
            "    Uninstalling gensim-4.3.3:\n",
            "      Successfully uninstalled gensim-4.3.3\n",
            "Successfully installed gensim-4.3.3 numpy-1.26.4 scipy-1.13.1 smart-open-7.0.5 wrapt-1.16.0\n"
          ]
        },
        {
          "output_type": "display_data",
          "data": {
            "application/vnd.colab-display-data+json": {
              "pip_warning": {
                "packages": [
                  "smart_open",
                  "wrapt"
                ]
              },
              "id": "656ebeae4b0a491384af2db4e42cb8b0"
            }
          },
          "metadata": {}
        }
      ]
    },
    {
      "cell_type": "code",
      "execution_count": 9,
      "metadata": {
        "id": "rQXCI3tRqr6A"
      },
      "outputs": [],
      "source": [
        "# 1. Import bibliotek\n",
        "import pandas as pd\n",
        "import re\n",
        "import nltk\n",
        "from gensim.models import Word2Vec\n",
        "from gensim.corpora import Dictionary\n",
        "from gensim.models import TfidfModel\n",
        "from gensim.similarities import MatrixSimilarity\n",
        "from nltk.corpus import stopwords\n",
        "from nltk.tokenize import word_tokenize, sent_tokenize\n",
        "import numpy as np\n",
        "import matplotlib.pyplot as plt\n",
        "import seaborn as sns"
      ]
    },
    {
      "cell_type": "code",
      "source": [
        "# 2. Wczytanie plików i podział na rozdziały\n",
        "with open('anna_karenina.txt', 'r', encoding='utf-8') as f:\n",
        "    anna_karenina_text = f.read()\n",
        "with open('jane_eyre.txt', 'r', encoding='utf-8') as f:\n",
        "    jane_eyre_text = f.read()"
      ],
      "metadata": {
        "id": "Rd1uSu9LtMP1"
      },
      "execution_count": 33,
      "outputs": []
    },
    {
      "cell_type": "code",
      "source": [
        "# Tutaj warto zauważyć, że oba pliki .txt maja inne oznaczenie chapterow, alternatywa jest np szukanie wielu znakow nowej linii ale obawiam się, że może to też wyłapywać akapity itp\n",
        "def split_into_chapters(text):\n",
        "    # Wzorzec dopasowuje \"CHAPTER IV\", \"CHAPTER V\" (rzymskie liczby) lub \"Chapter 1\", \"Chapter 2\" (liczby arabskie)\n",
        "    chapter_identifier = r\"(?:CHAPTER\\s+[IVXLCDM]+|Chapter\\s+\\d+)\"\n",
        "    chapters = re.split(chapter_identifier, text, flags=re.IGNORECASE)\n",
        "    return [chapter.strip() for chapter in chapters if chapter.strip()]"
      ],
      "metadata": {
        "id": "vk4vpbWltOwj"
      },
      "execution_count": 32,
      "outputs": []
    },
    {
      "cell_type": "code",
      "source": [
        "anna_karenina_chapters = split_into_chapters(anna_karenina_text)\n",
        "jane_eyre_chapters = split_into_chapters(jane_eyre_text)"
      ],
      "metadata": {
        "id": "lUN6KWtjtbJP"
      },
      "execution_count": 35,
      "outputs": []
    },
    {
      "cell_type": "code",
      "source": [
        "selected_anna_chapters = anna_karenina_chapters[:5]  # Pierwsze 5 rozdziałów\n",
        "selected_jane_chapters = jane_eyre_chapters[:5]  # Pierwsze 5 rozdziałów"
      ],
      "metadata": {
        "id": "o4x3sSietf_q"
      },
      "execution_count": 36,
      "outputs": []
    },
    {
      "cell_type": "code",
      "source": [
        "# 3. Przetworzenie tekstu (tokenizacja i usuwanie stopwords np \"the\", \"is\", \"and\", \"in\", \"to\" itp)\n",
        "nltk.download('stopwords')\n",
        "nltk.download('punkt')\n",
        "stop_words = set(stopwords.words(\"english\"))"
      ],
      "metadata": {
        "colab": {
          "base_uri": "https://localhost:8080/"
        },
        "id": "ewUc_YbNtj8v",
        "outputId": "11e52f9b-b745-42ca-d1f2-1a211bec8054"
      },
      "execution_count": 37,
      "outputs": [
        {
          "output_type": "stream",
          "name": "stderr",
          "text": [
            "[nltk_data] Downloading package stopwords to /root/nltk_data...\n",
            "[nltk_data]   Package stopwords is already up-to-date!\n",
            "[nltk_data] Downloading package punkt to /root/nltk_data...\n",
            "[nltk_data]   Package punkt is already up-to-date!\n"
          ]
        }
      ]
    },
    {
      "cell_type": "code",
      "source": [
        "def preprocess_text(text):\n",
        "    text = re.sub(r'\\W+', ' ', text)  # Usuwa znaki specjalne\n",
        "    tokens = word_tokenize(text.lower())\n",
        "    tokens = [word for word in tokens if word not in stop_words]\n",
        "    return tokens"
      ],
      "metadata": {
        "id": "Tp3Ce_TGtlpe"
      },
      "execution_count": 38,
      "outputs": []
    },
    {
      "cell_type": "code",
      "source": [
        "preprocessed_anna = [preprocess_text(chapter) for chapter in selected_anna_chapters]\n",
        "preprocessed_jane = [preprocess_text(chapter) for chapter in selected_jane_chapters]\n"
      ],
      "metadata": {
        "id": "OWd0u05Rt7Ql"
      },
      "execution_count": 39,
      "outputs": []
    },
    {
      "cell_type": "code",
      "source": [
        "# 4. Stworzenie reprezentacji TF-IDF\n",
        "# Tworzenie korpusu i słownika aby móc przekształcić słowa w wektory liczbowe, co pozwala na porównywanie ich podobieństwa w sposób ilościowy.\n",
        "dictionary = Dictionary(preprocessed_anna + preprocessed_jane)\n",
        "\n",
        "corpus_anna = [dictionary.doc2bow(text) for text in preprocessed_anna]\n",
        "corpus_jane = [dictionary.doc2bow(text) for text in preprocessed_jane]\n",
        "\n",
        "tfidf = TfidfModel(corpus_anna + corpus_jane)\n",
        "\n",
        "# Przekształcenie korpusów do reprezentacji TF-IDF\n",
        "tfidf_corpus_anna = [tfidf[doc] for doc in corpus_anna]\n",
        "tfidf_corpus_jane = [tfidf[doc] for doc in corpus_jane]"
      ],
      "metadata": {
        "id": "PsDY6Zw-uFA8"
      },
      "execution_count": 40,
      "outputs": []
    },
    {
      "cell_type": "code",
      "source": [
        "# 5. Obliczenie podobieństwa z TF-IDF\n",
        "index = MatrixSimilarity(tfidf_corpus_jane, num_features=len(dictionary))"
      ],
      "metadata": {
        "id": "_c1HEEoauRRc"
      },
      "execution_count": 41,
      "outputs": []
    },
    {
      "cell_type": "code",
      "source": [
        "similarity_matrix = np.zeros((len(tfidf_corpus_anna), len(tfidf_corpus_jane)))\n",
        "for i, doc in enumerate(tfidf_corpus_anna):\n",
        "    sims = index[doc]  # Podobieństwa do każdego rozdziału z \"Jane Eyre\"\n",
        "    similarity_matrix[i] = sims"
      ],
      "metadata": {
        "id": "tOHkW74wuTBC"
      },
      "execution_count": 42,
      "outputs": []
    },
    {
      "cell_type": "code",
      "source": [
        "# Wizualizacja macierzy podobieństwa między książkami\n",
        "plt.figure(figsize=(10, 8))\n",
        "sns.heatmap(similarity_matrix, annot=True, cmap=\"coolwarm\", cbar=True,\n",
        "            xticklabels=[f'Jane {i+1}' for i in range(len(selected_jane_chapters))],\n",
        "            yticklabels=[f'Anna {i+1}' for i in range(len(selected_anna_chapters))])\n",
        "plt.title(\"Podobieństwo między rozdziałami (Anna Karenina vs Jane Eyre)\")\n",
        "plt.xlabel(\"Rozdziały Jane Eyre\")\n",
        "plt.ylabel(\"Rozdziały Anna Karenina\")\n",
        "plt.show()"
      ],
      "metadata": {
        "colab": {
          "base_uri": "https://localhost:8080/",
          "height": 719
        },
        "id": "uRs-ZSLvuUI5",
        "outputId": "175b30f8-3190-465e-b919-b8db2089bd4e"
      },
      "execution_count": 44,
      "outputs": [
        {
          "output_type": "display_data",
          "data": {
            "text/plain": [
              "<Figure size 1000x800 with 2 Axes>"
            ],
            "image/png": "[encoded data removed]"
          },
          "metadata": {}
        }
      ]
    },
    {
      "cell_type": "code",
      "source": [
        "# 7. Porównanie rozdziałów Anna Karenina ze sobą\n",
        "index_anna = MatrixSimilarity(tfidf_corpus_anna, num_features=len(dictionary))\n",
        "similarity_matrix_anna = np.zeros((len(tfidf_corpus_anna), len(tfidf_corpus_anna)))\n",
        "\n",
        "for i, doc in enumerate(tfidf_corpus_anna):\n",
        "    sims = index_anna[doc]\n",
        "    similarity_matrix_anna[i, :] = sims\n",
        "\n",
        "# Wizualizacja macierzy podobieństwa rozdziałów Anna Karenina\n",
        "plt.figure(figsize=(10, 8))\n",
        "sns.heatmap(similarity_matrix_anna, annot=True, cmap=\"coolwarm\", cbar=True,\n",
        "            xticklabels=[f'Anna {i+1}' for i in range(len(selected_anna_chapters))],\n",
        "            yticklabels=[f'Anna {i+1}' for i in range(len(selected_anna_chapters))])\n",
        "plt.title(\"Podobieństwo między rozdziałami (Anna Karenina vs Anna Karenina)\")\n",
        "plt.xlabel(\"Rozdziały Anna Karenina\")\n",
        "plt.ylabel(\"Rozdziały Anna Karenina\")\n",
        "plt.show()"
      ],
      "metadata": {
        "colab": {
          "base_uri": "https://localhost:8080/",
          "height": 719
        },
        "id": "mFQ-M-PvyDTN",
        "outputId": "499e6bf4-9b31-477a-de07-f88c2dbe57f5"
      },
      "execution_count": 46,
      "outputs": [
        {
          "output_type": "display_data",
          "data": {
            "text/plain": [
              "<Figure size 1000x800 with 2 Axes>"
            ],
            "image/png": "[encoded data removed]"
          },
          "metadata": {}
        }
      ]
    },
    {
      "cell_type": "code",
      "source": [
        "# 8. Porównanie rozdziałów Jane Eyre ze sobą\n",
        "index_jane = MatrixSimilarity(tfidf_corpus_jane, num_features=len(dictionary))\n",
        "similarity_matrix_jane = np.zeros((len(tfidf_corpus_jane), len(tfidf_corpus_jane)))\n",
        "\n",
        "for i, doc in enumerate(tfidf_corpus_jane):\n",
        "    sims = index_jane[doc]\n",
        "    similarity_matrix_jane[i, :] = sims\n",
        "\n",
        "# Wizualizacja macierzy podobieństwa rozdziałów Jane Eyre\n",
        "plt.figure(figsize=(10, 8))\n",
        "sns.heatmap(similarity_matrix_jane, annot=True, cmap=\"coolwarm\", cbar=True,\n",
        "            xticklabels=[f'Jane {i+1}' for i in range(len(selected_jane_chapters))],\n",
        "            yticklabels=[f'Jane {i+1}' for i in range(len(selected_jane_chapters))])\n",
        "plt.title(\"Podobieństwo między rozdziałami (Jane Eyre vs Jane Eyre)\")\n",
        "plt.xlabel(\"Rozdziały Jane Eyre\")\n",
        "plt.ylabel(\"Rozdziały Jane Eyre\")\n",
        "plt.show()"
      ],
      "metadata": {
        "colab": {
          "base_uri": "https://localhost:8080/",
          "height": 719
        },
        "id": "K_f0S5C0yGPq",
        "outputId": "34cdd42d-f6aa-426d-d1c1-84a71369336e"
      },
      "execution_count": 47,
      "outputs": [
        {
          "output_type": "display_data",
          "data": {
            "text/plain": [
              "<Figure size 1000x800 with 2 Axes>"
            ],
            "image/png": "[encoded data removed]"
          },
          "metadata": {}
        }
      ]
    },
    {
      "cell_type": "markdown",
      "source": [
        "# 2. Zbudować osadzenia słów i porównać użycie wybranych terminów\n",
        "Wygenerować osadzenia słów (np. Word2Vec) dla obu książek i porównać, jak wybrane słowa (np. „miłość”, „małżeństwo”, „rodzina”) są reprezentowane w każdej z nich. Wykorzystać podobieństwo cosinusowe, aby zobaczyć, jak bliskie są te słowa względem innych wyrazów.\n"
      ],
      "metadata": {
        "id": "VLq_5ABbyVtg"
      }
    },
    {
      "cell_type": "markdown",
      "source": [
        "Początkowo źle przeczytałem polecenie i zrobiłem dla 5 rozdziałów jednak zostawiam ten fragment kodu w celu oceny polepszenia wyników przy trenowaniu modelu na całym pliku .txt"
      ],
      "metadata": {
        "id": "daT_mXWqzj85"
      }
    },
    {
      "cell_type": "code",
      "source": [
        "from gensim.models import Word2Vec\n",
        "from sklearn.metrics.pairwise import cosine_similarity"
      ],
      "metadata": {
        "id": "EacznUVHygSh"
      },
      "execution_count": 48,
      "outputs": []
    },
    {
      "cell_type": "code",
      "source": [
        "# 1. Trenowanie modelu Word2Vec dla każdej książki\n",
        "# Używamy wcześniej przetworzonych danych (preprocessed_anna i preprocessed_jane)\n",
        "\n",
        "# Model Word2Vec dla \"Anna Karenina\"\n",
        "model_anna = Word2Vec(sentences=preprocessed_anna, vector_size=100, window=5, min_count=2, sg=1)\n",
        "\n",
        "# Model Word2Vec dla \"Jane Eyre\"\n",
        "model_jane = Word2Vec(sentences=preprocessed_jane, vector_size=100, window=5, min_count=2, sg=1)\n"
      ],
      "metadata": {
        "id": "s116LdYPyi-j"
      },
      "execution_count": 49,
      "outputs": []
    },
    {
      "cell_type": "code",
      "source": [
        "# 2. Wybór słów do analizy\n",
        "target_words = [\"love\", \"marriage\", \"family\"]"
      ],
      "metadata": {
        "id": "X72sSXTZykfD"
      },
      "execution_count": 50,
      "outputs": []
    },
    {
      "cell_type": "code",
      "source": [
        "# 3. Funkcja do obliczania podobieństwa cosinusowego między słowami\n",
        "def get_word_similarity(model, word, top_n=5):\n",
        "    # Sprawdza podobieństwo względem najbliższych słów\n",
        "    if word in model.wv:\n",
        "        similar_words = model.wv.most_similar(word, topn=top_n)\n",
        "        return similar_words\n",
        "    else:\n",
        "        return f\"'{word}' nie występuje w modelu.\"\n"
      ],
      "metadata": {
        "id": "9jDas9gJylqF"
      },
      "execution_count": 51,
      "outputs": []
    },
    {
      "cell_type": "code",
      "source": [
        "# 4. Analiza podobieństwa słów w obu książkach\n",
        "for word in target_words:\n",
        "    print(f\"\\nPodobne słowa do '{word}' w 'Anna Karenina':\")\n",
        "    print(get_word_similarity(model_anna, word))\n",
        "\n",
        "    print(f\"\\nPodobne słowa do '{word}' w 'Jane Eyre':\")\n",
        "    print(get_word_similarity(model_jane, word))"
      ],
      "metadata": {
        "colab": {
          "base_uri": "https://localhost:8080/"
        },
        "id": "HmDiSjZIyqSK",
        "outputId": "951e4d20-34e6-49c0-924d-946095e6908f"
      },
      "execution_count": 52,
      "outputs": [
        {
          "output_type": "stream",
          "name": "stdout",
          "text": [
            "\n",
            "Podobne słowa do 'love' w 'Anna Karenina':\n",
            "[('arkadyevitch', 0.8806336522102356), ('said', 0.8781701326370239), ('children', 0.8714256882667542), ('face', 0.8652745485305786), ('room', 0.8642904162406921)]\n",
            "\n",
            "Podobne słowa do 'love' w 'Jane Eyre':\n",
            "[('head', 0.992226779460907), ('would', 0.9922125339508057), ('hand', 0.9919297099113464), ('seemed', 0.9919283390045166), ('bessie', 0.9917937517166138)]\n",
            "\n",
            "Podobne słowa do 'marriage' w 'Anna Karenina':\n",
            "'marriage' nie występuje w modelu.\n",
            "\n",
            "Podobne słowa do 'marriage' w 'Jane Eyre':\n",
            "'marriage' nie występuje w modelu.\n",
            "\n",
            "Podobne słowa do 'family' w 'Anna Karenina':\n",
            "[('said', 0.7971847653388977), ('everything', 0.7889183759689331), ('would', 0.7886133790016174), ('arkadyevitch', 0.7835462689399719), ('children', 0.7793702483177185)]\n",
            "\n",
            "Podobne słowa do 'family' w 'Jane Eyre':\n",
            "[('cold', 0.9107189178466797), ('something', 0.9096060395240784), ('low', 0.9079965949058533), ('disposed', 0.9079830646514893), ('afraid', 0.9078371524810791)]\n"
          ]
        }
      ]
    },
    {
      "cell_type": "markdown",
      "source": [
        "Aby poprawić wyniki możemy spróbować wytrenować model na całej książce oraz zmienić parametry trenowania modelu"
      ],
      "metadata": {
        "id": "QCOzieeXzEUZ"
      }
    },
    {
      "cell_type": "code",
      "source": [
        "with open('anna_karenina.txt', 'r', encoding='utf-8') as f:\n",
        "    anna_karenina_text = f.read()\n",
        "with open('jane_eyre.txt', 'r', encoding='utf-8') as f:\n",
        "    jane_eyre_text = f.read()\n",
        "stop_words = set(stopwords.words(\"english\"))"
      ],
      "metadata": {
        "id": "q6vdXlnKz1LN"
      },
      "execution_count": 53,
      "outputs": []
    },
    {
      "cell_type": "code",
      "source": [
        "def preprocess_text_sentences(text):\n",
        "    sentences = sent_tokenize(text)\n",
        "    processed_sentences = []\n",
        "    for sentence in sentences:\n",
        "        # Usunięcie znaków specjalnych\n",
        "        sentence = re.sub(r'[^a-zA-Z\\s]', '', sentence)\n",
        "        tokens = word_tokenize(sentence.lower())\n",
        "        # Usunięcie stop-words\n",
        "        tokens = [word for word in tokens if word not in stop_words]\n",
        "        if tokens:  # Dodajemy tylko, jeśli lista nie jest pusta\n",
        "            processed_sentences.append(tokens)\n",
        "    return processed_sentences"
      ],
      "metadata": {
        "id": "uxW5NQoNz5qN"
      },
      "execution_count": 54,
      "outputs": []
    },
    {
      "cell_type": "code",
      "source": [
        "# Przetworzone teksty jako lista zdań z tokenami\n",
        "sentences_anna = preprocess_text_sentences(anna_karenina_text)\n",
        "sentences_jane = preprocess_text_sentences(jane_eyre_text)"
      ],
      "metadata": {
        "id": "R9N8N1f4z7aa"
      },
      "execution_count": 55,
      "outputs": []
    },
    {
      "cell_type": "code",
      "source": [
        "# 4. Trenowanie modeli Word2Vec na pełnych tekstach\n",
        "# Ustawienie parametrów modelu\n",
        "model_anna = Word2Vec(sentences=sentences_anna, vector_size=200, window=5, min_count=2, workers=4, epochs=10, sg=1)\n",
        "model_jane = Word2Vec(sentences=sentences_jane, vector_size=200, window=5, min_count=2, workers=4, epochs=10, sg=1)\n"
      ],
      "metadata": {
        "id": "Q6j5GbQfz9D7"
      },
      "execution_count": 56,
      "outputs": []
    },
    {
      "cell_type": "code",
      "source": [
        "# 5. Wybór słów do analizy\n",
        "target_words = [\"love\", \"marriage\", \"family\"]"
      ],
      "metadata": {
        "id": "DLYFLUSPz-Jp"
      },
      "execution_count": 57,
      "outputs": []
    },
    {
      "cell_type": "code",
      "source": [
        "# 6. Funkcja do uzyskania najbardziej podobnych słów\n",
        "def get_similar_words(model, word, top_n=5):\n",
        "    if word in model.wv.key_to_index:\n",
        "        similar_words = model.wv.most_similar(word, topn=top_n)\n",
        "        return similar_words\n",
        "    else:\n",
        "        return f\"'{word}' nie znaleziono w słowniku modelu.\""
      ],
      "metadata": {
        "id": "9REIPmJh0G2M"
      },
      "execution_count": 59,
      "outputs": []
    },
    {
      "cell_type": "code",
      "source": [
        "# 7. Analiza wybranych słów w obu modelach\n",
        "for word in target_words:\n",
        "    print(f\"\\nPodobne słowa do '{word}' w 'Anna Karenina':\")\n",
        "    result_anna = get_similar_words(model_anna, word)\n",
        "    print(result_anna)\n",
        "\n",
        "    print(f\"\\nPodobne słowa do '{word}' w 'Jane Eyre':\")\n",
        "    result_jane = get_similar_words(model_jane, word)\n",
        "    print(result_jane)"
      ],
      "metadata": {
        "colab": {
          "base_uri": "https://localhost:8080/"
        },
        "id": "VCwNVz8E0KGP",
        "outputId": "cc2e12ad-e6d5-4479-f7af-c978046d8975"
      },
      "execution_count": 60,
      "outputs": [
        {
          "output_type": "stream",
          "name": "stdout",
          "text": [
            "\n",
            "Podobne słowa do 'love' w 'Anna Karenina':\n",
            "[('loved', 0.7914674282073975), ('loving', 0.7617527842521667), ('child', 0.7582349181175232), ('fall', 0.7543761730194092), ('loves', 0.7522740364074707)]\n",
            "\n",
            "Podobne słowa do 'love' w 'Jane Eyre':\n",
            "[('loved', 0.9305915832519531), ('affection', 0.9028094410896301), ('ever', 0.902463436126709), ('nature', 0.9009971022605896), ('man', 0.8897837996482849)]\n",
            "\n",
            "Podobne słowa do 'marriage' w 'Anna Karenina':\n",
            "[('misfortune', 0.9277068376541138), ('sorrow', 0.9273471832275391), ('abandoned', 0.9244214296340942), ('relation', 0.9237494468688965), ('occupation', 0.9217766523361206)]\n",
            "\n",
            "Podobne słowa do 'marriage' w 'Jane Eyre':\n",
            "[('fond', 0.9894013404846191), ('obedience', 0.9873762130737305), ('concerning', 0.9873620867729187), ('matrimony', 0.987131655216217), ('eyres', 0.9861834049224854)]\n",
            "\n",
            "Podobne słowa do 'family' w 'Anna Karenina':\n",
            "[('regiment', 0.8412438035011292), ('girls', 0.8393025994300842), ('household', 0.8389753103256226), ('youth', 0.8333567380905151), ('honorable', 0.8209789395332336)]\n",
            "\n",
            "Podobne słowa do 'family' w 'Jane Eyre':\n",
            "[('known', 0.9739903807640076), ('thirty', 0.973619818687439), ('mistress', 0.9734397530555725), ('inquire', 0.972356915473938), ('twenty', 0.9723011255264282)]\n"
          ]
        }
      ]
    },
    {
      "cell_type": "code",
      "source": [
        "def compare_word_vectors(word, model1, model2):\n",
        "    if word in model1.wv.key_to_index and word in model2.wv.key_to_index:\n",
        "        vector1 = model1.wv[word].reshape(1, -1)\n",
        "        vector2 = model2.wv[word].reshape(1, -1)\n",
        "        similarity = cosine_similarity(vector1, vector2)[0][0]\n",
        "        return similarity\n",
        "    else:\n",
        "        return f\"'{word}' nie znaleziono w obu słownikach modeli.\"\n",
        "\n",
        "print(\"\\nPodobieństwo cosinusowe reprezentacji słów między 'Anna Karenina' a 'Jane Eyre':\")\n",
        "for word in target_words:\n",
        "    similarity = compare_word_vectors(word, model_anna, model_jane)\n",
        "    print(f\"Podobieństwo cosinusowe dla '{word}': {similarity}\")"
      ],
      "metadata": {
        "colab": {
          "base_uri": "https://localhost:8080/"
        },
        "id": "avQ12hN80OLJ",
        "outputId": "ff162292-e0c3-417d-c8fb-ea476591ae7e"
      },
      "execution_count": 61,
      "outputs": [
        {
          "output_type": "stream",
          "name": "stdout",
          "text": [
            "\n",
            "Podobieństwo cosinusowe reprezentacji słów między 'Anna Karenina' a 'Jane Eyre':\n",
            "Podobieństwo cosinusowe dla 'love': 0.24639593064785004\n",
            "Podobieństwo cosinusowe dla 'marriage': 0.6771166324615479\n",
            "Podobieństwo cosinusowe dla 'family': 0.5240219235420227\n"
          ]
        }
      ]
    },
    {
      "cell_type": "markdown",
      "source": [
        "# 3. Stworzyć model klasyfikacji toksyczności przy użyciu wektorów\n",
        "Korzystając z Gensim, wygenerować wektory tekstowe (np. TF-IDF) dla komentarzy, a następnie użyć modelu uczenia maszynowego do klasyfikacji toksycznych i nietoksycznych treści."
      ],
      "metadata": {
        "id": "I5xbyV2P08pi"
      }
    },
    {
      "cell_type": "code",
      "source": [
        "import pandas as pd\n",
        "import numpy as np\n",
        "from gensim.models import TfidfModel\n",
        "from gensim.corpora import Dictionary\n",
        "from sklearn.model_selection import train_test_split\n",
        "from sklearn.linear_model import LogisticRegression\n",
        "from sklearn.metrics import accuracy_score, confusion_matrix, f1_score\n",
        "from nltk.corpus import stopwords\n",
        "from nltk.tokenize import word_tokenize\n",
        "import nltk\n",
        "import re\n",
        "import seaborn as sns\n",
        "import matplotlib.pyplot as plt\n",
        "from scipy.sparse import csr_matrix"
      ],
      "metadata": {
        "id": "BmJCqtGd2oUz"
      },
      "execution_count": 88,
      "outputs": []
    },
    {
      "cell_type": "code",
      "source": [
        "csv_path = 'sample.csv'\n",
        "df = pd.read_csv(csv_path)"
      ],
      "metadata": {
        "id": "B29vFMwq2sXR"
      },
      "execution_count": 89,
      "outputs": []
    },
    {
      "cell_type": "code",
      "source": [
        "# 1. Przygotowanie danych\n",
        "# Przekształcenie etykiety `target` w klasę binarną (1 dla toksyczne, 0 dla nietoksyczne)\n",
        "df['toxic_label'] = df['target'].apply(lambda x: 1 if x > 0.3 else 0)"
      ],
      "metadata": {
        "id": "L1cT55jY2uhe"
      },
      "execution_count": 90,
      "outputs": []
    },
    {
      "cell_type": "code",
      "source": [
        "# Rozdzielenie danych na toksyczne i nietoksyczne\n",
        "toxic_comments = df[df['toxic_label'] == 1]\n",
        "non_toxic_comments = df[df['toxic_label'] == 0]"
      ],
      "metadata": {
        "id": "0uWptaSV385B"
      },
      "execution_count": 91,
      "outputs": []
    },
    {
      "cell_type": "code",
      "source": [
        "\n",
        "print(f\"Liczba toksycznych komentarzy: {len(toxic_comments)}\")\n",
        "print(f\"Liczba nietoksycznych komentarzy: {len(non_toxic_comments)}\")"
      ],
      "metadata": {
        "colab": {
          "base_uri": "https://localhost:8080/"
        },
        "id": "J2x1JJGN34Ll",
        "outputId": "38306b03-a00e-41c2-9dfd-a65cf4ef2c0f"
      },
      "execution_count": 92,
      "outputs": [
        {
          "output_type": "stream",
          "name": "stdout",
          "text": [
            "Liczba toksycznych komentarzy: 1094\n",
            "Liczba nietoksycznych komentarzy: 8906\n"
          ]
        }
      ]
    },
    {
      "cell_type": "code",
      "source": [
        "# Oversampling toksycznych komentarzy\n",
        "toxic_comments_oversampled = toxic_comments.sample(n=len(toxic_comments) + 300, replace=True)\n",
        "\n",
        "# Połączenie z nietoksycznymi komentarzami\n",
        "df_oversampled = pd.concat([toxic_comments_oversampled, non_toxic_comments])\n",
        "\n",
        "print(f\"Liczba toksycznych komentarzy po oversamplingu: {len(df_oversampled[df_oversampled['toxic_label'] == 1])}\")\n",
        "print(f\"Liczba nietoksycznych komentarzy: {len(df_oversampled[df_oversampled['toxic_label'] == 0])}\")\n"
      ],
      "metadata": {
        "colab": {
          "base_uri": "https://localhost:8080/"
        },
        "id": "lBnWA9cn4c24",
        "outputId": "206034f2-35b8-4d95-909f-ab9b6d2d06dd"
      },
      "execution_count": 95,
      "outputs": [
        {
          "output_type": "stream",
          "name": "stdout",
          "text": [
            "Liczba toksycznych komentarzy po oversamplingu: 1394\n",
            "Liczba nietoksycznych komentarzy: 8906\n"
          ]
        }
      ]
    },
    {
      "cell_type": "code",
      "source": [
        "# 2. Przetwarzanie tekstu\n",
        "def preprocess_text(text):\n",
        "    text = re.sub(r'\\W+', ' ', text)  # Usuwa znaki specjalne\n",
        "    tokens = word_tokenize(text.lower())\n",
        "    tokens = [word for word in tokens if word not in stop_words]\n",
        "    return tokens"
      ],
      "metadata": {
        "id": "TPO5wxIH2xPv"
      },
      "execution_count": 78,
      "outputs": []
    },
    {
      "cell_type": "code",
      "source": [
        "# Przekształcenie tekstu na listę tokenów\n",
        "processed_comments = [preprocess_text(comment) for comment in df_oversampled['comment_text']]"
      ],
      "metadata": {
        "id": "uL9hJgBo2y7X"
      },
      "execution_count": 96,
      "outputs": []
    },
    {
      "cell_type": "code",
      "source": [
        "# Tworzenie słownika i reprezentacji TF-IDF\n",
        "dictionary = Dictionary(processed_comments)\n",
        "corpus = [dictionary.doc2bow(text) for text in processed_comments]\n",
        "tfidf = TfidfModel(corpus)\n",
        "tfidf_corpus = [tfidf[doc] for doc in corpus]"
      ],
      "metadata": {
        "id": "JYNCjLSW24Rb"
      },
      "execution_count": 97,
      "outputs": []
    },
    {
      "cell_type": "code",
      "source": [
        "# Konwersja do macierzy rzadkiej (sparse matrix) dla kompatybilności ze Scikit-Learn\n",
        "num_docs = len(tfidf_corpus)\n",
        "num_terms = len(dictionary)\n",
        "data = []\n",
        "rows = []\n",
        "cols = []\n",
        "\n",
        "for row_idx, doc in enumerate(tfidf_corpus):\n",
        "    for col_idx, value in doc:\n",
        "        rows.append(row_idx)\n",
        "        cols.append(col_idx)\n",
        "        data.append(value)\n",
        "\n",
        "tfidf_matrix = csr_matrix((data, (rows, cols)), shape=(num_docs, num_terms))\n"
      ],
      "metadata": {
        "id": "ojVJgVlz27gT"
      },
      "execution_count": 98,
      "outputs": []
    },
    {
      "cell_type": "code",
      "source": [
        "# 3. Podział danych na zbiór treningowy i testowy\n",
        "X_train, X_test, y_train, y_test = train_test_split(tfidf_matrix, df_oversampled['toxic_label'], test_size=0.2, random_state=7)\n"
      ],
      "metadata": {
        "id": "DS6SpvyL2-P8"
      },
      "execution_count": 99,
      "outputs": []
    },
    {
      "cell_type": "code",
      "source": [
        "# 4. Trenowanie modelu klasyfikacyjnego\n",
        "clf = LogisticRegression(max_iter=1000)\n",
        "clf.fit(X_train, y_train)"
      ],
      "metadata": {
        "colab": {
          "base_uri": "https://localhost:8080/",
          "height": 80
        },
        "id": "n3cLkFzL2_0o",
        "outputId": "806cc87a-9560-47e1-fd0c-144d361926e9"
      },
      "execution_count": 100,
      "outputs": [
        {
          "output_type": "execute_result",
          "data": {
            "text/plain": [
              "LogisticRegression(max_iter=1000)"
            ],
            "text/html": [
              "<style>#sk-container-id-3 {\n",
              "  /* Definition of color scheme common for light and dark mode */\n",
              "  --sklearn-color-text: black;\n",
              "  --sklearn-color-line: gray;\n",
              "  /* Definition of color scheme for unfitted estimators */\n",
              "  --sklearn-color-unfitted-level-0: #fff5e6;\n",
              "  --sklearn-color-unfitted-level-1: #f6e4d2;\n",
              "  --sklearn-color-unfitted-level-2: #ffe0b3;\n",
              "  --sklearn-color-unfitted-level-3: chocolate;\n",
              "  /* Definition of color scheme for fitted estimators */\n",
              "  --sklearn-color-fitted-level-0: #f0f8ff;\n",
              "  --sklearn-color-fitted-level-1: #d4ebff;\n",
              "  --sklearn-color-fitted-level-2: #b3dbfd;\n",
              "  --sklearn-color-fitted-level-3: cornflowerblue;\n",
              "\n",
              "  /* Specific color for light theme */\n",
              "  --sklearn-color-text-on-default-background: var(--sg-text-color, var(--theme-code-foreground, var(--jp-content-font-color1, black)));\n",
              "  --sklearn-color-background: var(--sg-background-color, var(--theme-background, var(--jp-layout-color0, white)));\n",
              "  --sklearn-color-border-box: var(--sg-text-color, var(--theme-code-foreground, var(--jp-content-font-color1, black)));\n",
              "  --sklearn-color-icon: #696969;\n",
              "\n",
              "  @media (prefers-color-scheme: dark) {\n",
              "    /* Redefinition of color scheme for dark theme */\n",
              "    --sklearn-color-text-on-default-background: var(--sg-text-color, var(--theme-code-foreground, var(--jp-content-font-color1, white)));\n",
              "    --sklearn-color-background: var(--sg-background-color, var(--theme-background, var(--jp-layout-color0, #111)));\n",
              "    --sklearn-color-border-box: var(--sg-text-color, var(--theme-code-foreground, var(--jp-content-font-color1, white)));\n",
              "    --sklearn-color-icon: #878787;\n",
              "  }\n",
              "}\n",
              "\n",
              "#sk-container-id-3 {\n",
              "  color: var(--sklearn-color-text);\n",
              "}\n",
              "\n",
              "#sk-container-id-3 pre {\n",
              "  padding: 0;\n",
              "}\n",
              "\n",
              "#sk-container-id-3 input.sk-hidden--visually {\n",
              "  border: 0;\n",
              "  clip: rect(1px 1px 1px 1px);\n",
              "  clip: rect(1px, 1px, 1px, 1px);\n",
              "  height: 1px;\n",
              "  margin: -1px;\n",
              "  overflow: hidden;\n",
              "  padding: 0;\n",
              "  position: absolute;\n",
              "  width: 1px;\n",
              "}\n",
              "\n",
              "#sk-container-id-3 div.sk-dashed-wrapped {\n",
              "  border: 1px dashed var(--sklearn-color-line);\n",
              "  margin: 0 0.4em 0.5em 0.4em;\n",
              "  box-sizing: border-box;\n",
              "  padding-bottom: 0.4em;\n",
              "  background-color: var(--sklearn-color-background);\n",
              "}\n",
              "\n",
              "#sk-container-id-3 div.sk-container {\n",
              "  /* jupyter's `normalize.less` sets `[hidden] { display: none; }`\n",
              "     but bootstrap.min.css set `[hidden] { display: none !important; }`\n",
              "     so we also need the `!important` here to be able to override the\n",
              "     default hidden behavior on the sphinx rendered scikit-learn.org.\n",
              "     See: https://github.com/scikit-learn/scikit-learn/issues/21755 */\n",
              "  display: inline-block !important;\n",
              "  position: relative;\n",
              "}\n",
              "\n",
              "#sk-container-id-3 div.sk-text-repr-fallback {\n",
              "  display: none;\n",
              "}\n",
              "\n",
              "div.sk-parallel-item,\n",
              "div.sk-serial,\n",
              "div.sk-item {\n",
              "  /* draw centered vertical line to link estimators */\n",
              "  background-image: linear-gradient(var(--sklearn-color-text-on-default-background), var(--sklearn-color-text-on-default-background));\n",
              "  background-size: 2px 100%;\n",
              "  background-repeat: no-repeat;\n",
              "  background-position: center center;\n",
              "}\n",
              "\n",
              "/* Parallel-specific style estimator block */\n",
              "\n",
              "#sk-container-id-3 div.sk-parallel-item::after {\n",
              "  content: \"\";\n",
              "  width: 100%;\n",
              "  border-bottom: 2px solid var(--sklearn-color-text-on-default-background);\n",
              "  flex-grow: 1;\n",
              "}\n",
              "\n",
              "#sk-container-id-3 div.sk-parallel {\n",
              "  display: flex;\n",
              "  align-items: stretch;\n",
              "  justify-content: center;\n",
              "  background-color: var(--sklearn-color-background);\n",
              "  position: relative;\n",
              "}\n",
              "\n",
              "#sk-container-id-3 div.sk-parallel-item {\n",
              "  display: flex;\n",
              "  flex-direction: column;\n",
              "}\n",
              "\n",
              "#sk-container-id-3 div.sk-parallel-item:first-child::after {\n",
              "  align-self: flex-end;\n",
              "  width: 50%;\n",
              "}\n",
              "\n",
              "#sk-container-id-3 div.sk-parallel-item:last-child::after {\n",
              "  align-self: flex-start;\n",
              "  width: 50%;\n",
              "}\n",
              "\n",
              "#sk-container-id-3 div.sk-parallel-item:only-child::after {\n",
              "  width: 0;\n",
              "}\n",
              "\n",
              "/* Serial-specific style estimator block */\n",
              "\n",
              "#sk-container-id-3 div.sk-serial {\n",
              "  display: flex;\n",
              "  flex-direction: column;\n",
              "  align-items: center;\n",
              "  background-color: var(--sklearn-color-background);\n",
              "  padding-right: 1em;\n",
              "  padding-left: 1em;\n",
              "}\n",
              "\n",
              "\n",
              "/* Toggleable style: style used for estimator/Pipeline/ColumnTransformer box that is\n",
              "clickable and can be expanded/collapsed.\n",
              "- Pipeline and ColumnTransformer use this feature and define the default style\n",
              "- Estimators will overwrite some part of the style using the `sk-estimator` class\n",
              "*/\n",
              "\n",
              "/* Pipeline and ColumnTransformer style (default) */\n",
              "\n",
              "#sk-container-id-3 div.sk-toggleable {\n",
              "  /* Default theme specific background. It is overwritten whether we have a\n",
              "  specific estimator or a Pipeline/ColumnTransformer */\n",
              "  background-color: var(--sklearn-color-background);\n",
              "}\n",
              "\n",
              "/* Toggleable label */\n",
              "#sk-container-id-3 label.sk-toggleable__label {\n",
              "  cursor: pointer;\n",
              "  display: block;\n",
              "  width: 100%;\n",
              "  margin-bottom: 0;\n",
              "  padding: 0.5em;\n",
              "  box-sizing: border-box;\n",
              "  text-align: center;\n",
              "}\n",
              "\n",
              "#sk-container-id-3 label.sk-toggleable__label-arrow:before {\n",
              "  /* Arrow on the left of the label */\n",
              "  content: \"▸\";\n",
              "  float: left;\n",
              "  margin-right: 0.25em;\n",
              "  color: var(--sklearn-color-icon);\n",
              "}\n",
              "\n",
              "#sk-container-id-3 label.sk-toggleable__label-arrow:hover:before {\n",
              "  color: var(--sklearn-color-text);\n",
              "}\n",
              "\n",
              "/* Toggleable content - dropdown */\n",
              "\n",
              "#sk-container-id-3 div.sk-toggleable__content {\n",
              "  max-height: 0;\n",
              "  max-width: 0;\n",
              "  overflow: hidden;\n",
              "  text-align: left;\n",
              "  /* unfitted */\n",
              "  background-color: var(--sklearn-color-unfitted-level-0);\n",
              "}\n",
              "\n",
              "#sk-container-id-3 div.sk-toggleable__content.fitted {\n",
              "  /* fitted */\n",
              "  background-color: var(--sklearn-color-fitted-level-0);\n",
              "}\n",
              "\n",
              "#sk-container-id-3 div.sk-toggleable__content pre {\n",
              "  margin: 0.2em;\n",
              "  border-radius: 0.25em;\n",
              "  color: var(--sklearn-color-text);\n",
              "  /* unfitted */\n",
              "  background-color: var(--sklearn-color-unfitted-level-0);\n",
              "}\n",
              "\n",
              "#sk-container-id-3 div.sk-toggleable__content.fitted pre {\n",
              "  /* unfitted */\n",
              "  background-color: var(--sklearn-color-fitted-level-0);\n",
              "}\n",
              "\n",
              "#sk-container-id-3 input.sk-toggleable__control:checked~div.sk-toggleable__content {\n",
              "  /* Expand drop-down */\n",
              "  max-height: 200px;\n",
              "  max-width: 100%;\n",
              "  overflow: auto;\n",
              "}\n",
              "\n",
              "#sk-container-id-3 input.sk-toggleable__control:checked~label.sk-toggleable__label-arrow:before {\n",
              "  content: \"▾\";\n",
              "}\n",
              "\n",
              "/* Pipeline/ColumnTransformer-specific style */\n",
              "\n",
              "#sk-container-id-3 div.sk-label input.sk-toggleable__control:checked~label.sk-toggleable__label {\n",
              "  color: var(--sklearn-color-text);\n",
              "  background-color: var(--sklearn-color-unfitted-level-2);\n",
              "}\n",
              "\n",
              "#sk-container-id-3 div.sk-label.fitted input.sk-toggleable__control:checked~label.sk-toggleable__label {\n",
              "  background-color: var(--sklearn-color-fitted-level-2);\n",
              "}\n",
              "\n",
              "/* Estimator-specific style */\n",
              "\n",
              "/* Colorize estimator box */\n",
              "#sk-container-id-3 div.sk-estimator input.sk-toggleable__control:checked~label.sk-toggleable__label {\n",
              "  /* unfitted */\n",
              "  background-color: var(--sklearn-color-unfitted-level-2);\n",
              "}\n",
              "\n",
              "#sk-container-id-3 div.sk-estimator.fitted input.sk-toggleable__control:checked~label.sk-toggleable__label {\n",
              "  /* fitted */\n",
              "  background-color: var(--sklearn-color-fitted-level-2);\n",
              "}\n",
              "\n",
              "#sk-container-id-3 div.sk-label label.sk-toggleable__label,\n",
              "#sk-container-id-3 div.sk-label label {\n",
              "  /* The background is the default theme color */\n",
              "  color: var(--sklearn-color-text-on-default-background);\n",
              "}\n",
              "\n",
              "/* On hover, darken the color of the background */\n",
              "#sk-container-id-3 div.sk-label:hover label.sk-toggleable__label {\n",
              "  color: var(--sklearn-color-text);\n",
              "  background-color: var(--sklearn-color-unfitted-level-2);\n",
              "}\n",
              "\n",
              "/* Label box, darken color on hover, fitted */\n",
              "#sk-container-id-3 div.sk-label.fitted:hover label.sk-toggleable__label.fitted {\n",
              "  color: var(--sklearn-color-text);\n",
              "  background-color: var(--sklearn-color-fitted-level-2);\n",
              "}\n",
              "\n",
              "/* Estimator label */\n",
              "\n",
              "#sk-container-id-3 div.sk-label label {\n",
              "  font-family: monospace;\n",
              "  font-weight: bold;\n",
              "  display: inline-block;\n",
              "  line-height: 1.2em;\n",
              "}\n",
              "\n",
              "#sk-container-id-3 div.sk-label-container {\n",
              "  text-align: center;\n",
              "}\n",
              "\n",
              "/* Estimator-specific */\n",
              "#sk-container-id-3 div.sk-estimator {\n",
              "  font-family: monospace;\n",
              "  border: 1px dotted var(--sklearn-color-border-box);\n",
              "  border-radius: 0.25em;\n",
              "  box-sizing: border-box;\n",
              "  margin-bottom: 0.5em;\n",
              "  /* unfitted */\n",
              "  background-color: var(--sklearn-color-unfitted-level-0);\n",
              "}\n",
              "\n",
              "#sk-container-id-3 div.sk-estimator.fitted {\n",
              "  /* fitted */\n",
              "  background-color: var(--sklearn-color-fitted-level-0);\n",
              "}\n",
              "\n",
              "/* on hover */\n",
              "#sk-container-id-3 div.sk-estimator:hover {\n",
              "  /* unfitted */\n",
              "  background-color: var(--sklearn-color-unfitted-level-2);\n",
              "}\n",
              "\n",
              "#sk-container-id-3 div.sk-estimator.fitted:hover {\n",
              "  /* fitted */\n",
              "  background-color: var(--sklearn-color-fitted-level-2);\n",
              "}\n",
              "\n",
              "/* Specification for estimator info (e.g. \"i\" and \"?\") */\n",
              "\n",
              "/* Common style for \"i\" and \"?\" */\n",
              "\n",
              ".sk-estimator-doc-link,\n",
              "a:link.sk-estimator-doc-link,\n",
              "a:visited.sk-estimator-doc-link {\n",
              "  float: right;\n",
              "  font-size: smaller;\n",
              "  line-height: 1em;\n",
              "  font-family: monospace;\n",
              "  background-color: var(--sklearn-color-background);\n",
              "  border-radius: 1em;\n",
              "  height: 1em;\n",
              "  width: 1em;\n",
              "  text-decoration: none !important;\n",
              "  margin-left: 1ex;\n",
              "  /* unfitted */\n",
              "  border: var(--sklearn-color-unfitted-level-1) 1pt solid;\n",
              "  color: var(--sklearn-color-unfitted-level-1);\n",
              "}\n",
              "\n",
              ".sk-estimator-doc-link.fitted,\n",
              "a:link.sk-estimator-doc-link.fitted,\n",
              "a:visited.sk-estimator-doc-link.fitted {\n",
              "  /* fitted */\n",
              "  border: var(--sklearn-color-fitted-level-1) 1pt solid;\n",
              "  color: var(--sklearn-color-fitted-level-1);\n",
              "}\n",
              "\n",
              "/* On hover */\n",
              "div.sk-estimator:hover .sk-estimator-doc-link:hover,\n",
              ".sk-estimator-doc-link:hover,\n",
              "div.sk-label-container:hover .sk-estimator-doc-link:hover,\n",
              ".sk-estimator-doc-link:hover {\n",
              "  /* unfitted */\n",
              "  background-color: var(--sklearn-color-unfitted-level-3);\n",
              "  color: var(--sklearn-color-background);\n",
              "  text-decoration: none;\n",
              "}\n",
              "\n",
              "div.sk-estimator.fitted:hover .sk-estimator-doc-link.fitted:hover,\n",
              ".sk-estimator-doc-link.fitted:hover,\n",
              "div.sk-label-container:hover .sk-estimator-doc-link.fitted:hover,\n",
              ".sk-estimator-doc-link.fitted:hover {\n",
              "  /* fitted */\n",
              "  background-color: var(--sklearn-color-fitted-level-3);\n",
              "  color: var(--sklearn-color-background);\n",
              "  text-decoration: none;\n",
              "}\n",
              "\n",
              "/* Span, style for the box shown on hovering the info icon */\n",
              ".sk-estimator-doc-link span {\n",
              "  display: none;\n",
              "  z-index: 9999;\n",
              "  position: relative;\n",
              "  font-weight: normal;\n",
              "  right: .2ex;\n",
              "  padding: .5ex;\n",
              "  margin: .5ex;\n",
              "  width: min-content;\n",
              "  min-width: 20ex;\n",
              "  max-width: 50ex;\n",
              "  color: var(--sklearn-color-text);\n",
              "  box-shadow: 2pt 2pt 4pt #999;\n",
              "  /* unfitted */\n",
              "  background: var(--sklearn-color-unfitted-level-0);\n",
              "  border: .5pt solid var(--sklearn-color-unfitted-level-3);\n",
              "}\n",
              "\n",
              ".sk-estimator-doc-link.fitted span {\n",
              "  /* fitted */\n",
              "  background: var(--sklearn-color-fitted-level-0);\n",
              "  border: var(--sklearn-color-fitted-level-3);\n",
              "}\n",
              "\n",
              ".sk-estimator-doc-link:hover span {\n",
              "  display: block;\n",
              "}\n",
              "\n",
              "/* \"?\"-specific style due to the `<a>` HTML tag */\n",
              "\n",
              "#sk-container-id-3 a.estimator_doc_link {\n",
              "  float: right;\n",
              "  font-size: 1rem;\n",
              "  line-height: 1em;\n",
              "  font-family: monospace;\n",
              "  background-color: var(--sklearn-color-background);\n",
              "  border-radius: 1rem;\n",
              "  height: 1rem;\n",
              "  width: 1rem;\n",
              "  text-decoration: none;\n",
              "  /* unfitted */\n",
              "  color: var(--sklearn-color-unfitted-level-1);\n",
              "  border: var(--sklearn-color-unfitted-level-1) 1pt solid;\n",
              "}\n",
              "\n",
              "#sk-container-id-3 a.estimator_doc_link.fitted {\n",
              "  /* fitted */\n",
              "  border: var(--sklearn-color-fitted-level-1) 1pt solid;\n",
              "  color: var(--sklearn-color-fitted-level-1);\n",
              "}\n",
              "\n",
              "/* On hover */\n",
              "#sk-container-id-3 a.estimator_doc_link:hover {\n",
              "  /* unfitted */\n",
              "  background-color: var(--sklearn-color-unfitted-level-3);\n",
              "  color: var(--sklearn-color-background);\n",
              "  text-decoration: none;\n",
              "}\n",
              "\n",
              "#sk-container-id-3 a.estimator_doc_link.fitted:hover {\n",
              "  /* fitted */\n",
              "  background-color: var(--sklearn-color-fitted-level-3);\n",
              "}\n",
              "</style><div id=\"sk-container-id-3\" class=\"sk-top-container\"><div class=\"sk-text-repr-fallback\"><pre>LogisticRegression(max_iter=1000)</pre><b>In a Jupyter environment, please rerun this cell to show the HTML representation or trust the notebook. <br />On GitHub, the HTML representation is unable to render, please try loading this page with nbviewer.org.</b></div><div class=\"sk-container\" hidden><div class=\"sk-item\"><div class=\"sk-estimator fitted sk-toggleable\"><input class=\"sk-toggleable__control sk-hidden--visually\" id=\"sk-estimator-id-3\" type=\"checkbox\" checked><label for=\"sk-estimator-id-3\" class=\"sk-toggleable__label fitted sk-toggleable__label-arrow fitted\">&nbsp;&nbsp;LogisticRegression<a class=\"sk-estimator-doc-link fitted\" rel=\"noreferrer\" target=\"_blank\" href=\"https://scikit-learn.org/1.5/modules/generated/sklearn.linear_model.LogisticRegression.html\">?<span>Documentation for LogisticRegression</span></a><span class=\"sk-estimator-doc-link fitted\">i<span>Fitted</span></span></label><div class=\"sk-toggleable__content fitted\"><pre>LogisticRegression(max_iter=1000)</pre></div> </div></div></div></div>"
            ]
          },
          "metadata": {},
          "execution_count": 100
        }
      ]
    },
    {
      "cell_type": "code",
      "source": [
        "# 5. Ewaluacja modelu\n",
        "y_pred = clf.predict(X_test)\n",
        "accuracy = accuracy_score(y_test, y_pred)\n",
        "f1 = f1_score(y_test, y_pred)\n",
        "\n",
        "print(\"Dokładność modelu (accuracy):\", accuracy)\n",
        "print(\"F1-score modelu:\", f1)"
      ],
      "metadata": {
        "colab": {
          "base_uri": "https://localhost:8080/"
        },
        "id": "ejQr8Gft3Bzo",
        "outputId": "2479f946-e545-4db1-f6ae-baaf1204d6da"
      },
      "execution_count": 101,
      "outputs": [
        {
          "output_type": "stream",
          "name": "stdout",
          "text": [
            "Dokładność modelu (accuracy): 0.8864077669902912\n",
            "F1-score modelu: 0.19863013698630136\n"
          ]
        }
      ]
    },
    {
      "cell_type": "code",
      "source": [
        "# Wyświetlenie macierzy konfuzji\n",
        "cm = confusion_matrix(y_test, y_pred)\n",
        "plt.figure(figsize=(8, 6))\n",
        "sns.heatmap(cm, annot=True, fmt=\"d\", cmap=\"Blues\", xticklabels=[\"Nietoksyczne\", \"Toksyczne\"], yticklabels=[\"Nietoksyczne\", \"Toksyczne\"])\n",
        "plt.xlabel(\"Przewidywane etykiety\")\n",
        "plt.ylabel(\"Rzeczywiste etykiety\")\n",
        "plt.title(\"Macierz konfuzji dla modelu klasyfikacji toksyczności\")\n",
        "plt.show()"
      ],
      "metadata": {
        "colab": {
          "base_uri": "https://localhost:8080/",
          "height": 565
        },
        "id": "Gq6y6U0B3dlr",
        "outputId": "4958c323-ed64-41ac-9a63-4ced46fd3825"
      },
      "execution_count": 102,
      "outputs": [
        {
          "output_type": "display_data",
          "data": {
            "text/plain": [
              "<Figure size 800x600 with 2 Axes>"
            ],
            "image/png": "[encoded data removed]"
          },
          "metadata": {}
        }
      ]
    },
    {
      "cell_type": "markdown",
      "source": [
        "# 4. Stworzyć słownik toksycznych słów i porównać go z nietoksycznymi\n",
        "Na podstawie komentarzy stworzyć słownik wyrazów lub fraz, które występują częściej w toksycznych komentarzach. Użyć podobieństwa słów (Word2Vec) do poszukiwania innych słów o podobnej toksycznej wymowie."
      ],
      "metadata": {
        "id": "XXROsIPb0_b8"
      }
    },
    {
      "cell_type": "code",
      "source": [
        "from collections import Counter"
      ],
      "metadata": {
        "id": "94Uhg2Uq437W"
      },
      "execution_count": 103,
      "outputs": []
    },
    {
      "cell_type": "code",
      "source": [
        "# 1. Przetwarzanie tekstu toksycznych i nietoksycznych komentarzy na tokeny\n",
        "toxic_comments_tokens = [preprocess_text(comment) for comment in toxic_comments['comment_text']]\n",
        "non_toxic_comments_tokens = [preprocess_text(comment) for comment in non_toxic_comments['comment_text']]\n"
      ],
      "metadata": {
        "id": "gBVGpL1I5HzI"
      },
      "execution_count": 104,
      "outputs": []
    },
    {
      "cell_type": "code",
      "source": [
        "# 2. Tworzenie słownika toksycznych słów\n",
        "# Zliczamy wystąpienia słów w toksycznych i nietoksycznych komentarzach\n",
        "toxic_words = Counter([word for comment in toxic_comments_tokens for word in comment])\n",
        "non_toxic_words = Counter([word for comment in non_toxic_comments_tokens for word in comment])\n"
      ],
      "metadata": {
        "id": "U_YeKZpP5Ixp"
      },
      "execution_count": 105,
      "outputs": []
    },
    {
      "cell_type": "code",
      "source": [
        "# Wybieramy toksyczne słowa - te, które są częściej w toksycznych komentarzach niż w nietoksycznych\n",
        "toxic_word_dict = {word: count for word, count in toxic_words.items() if count > non_toxic_words[word]}\n",
        "\n",
        "# Wyświetlenie najczęstszych toksycznych słów\n",
        "print(\"Najczęstsze toksyczne słowa:\", dict(Counter(toxic_word_dict).most_common(10)))"
      ],
      "metadata": {
        "colab": {
          "base_uri": "https://localhost:8080/"
        },
        "id": "O_iuWVa95KE6",
        "outputId": "03d71c89-3d07-46ab-ebf4-1ede78c86f05"
      },
      "execution_count": 106,
      "outputs": [
        {
          "output_type": "stream",
          "name": "stdout",
          "text": [
            "Najczęstsze toksyczne słowa: {'stupid': 81, 'ignorant': 44, 'idiot': 32, 'loser': 26, 'pathetic': 25, 'liar': 24, 'gay': 23, 'fool': 22, 'clown': 22, 'dumb': 22}\n"
          ]
        }
      ]
    },
    {
      "cell_type": "code",
      "source": [
        "# 3. Model Word2Vec dla toksycznych komentarzy\n",
        "model_toxic = Word2Vec(sentences=toxic_comments_tokens, vector_size=100, window=5, min_count=2, sg=1)"
      ],
      "metadata": {
        "id": "LmdRaN4f5MSI"
      },
      "execution_count": 107,
      "outputs": []
    },
    {
      "cell_type": "code",
      "source": [
        "# 4. Znajdowanie słów o podobnej toksycznej wymowie\n",
        "# Wybieramy najczęstsze toksyczne słowa i wyszukujemy ich podobne wyrazy\n",
        "similar_toxic_words = {}\n",
        "for toxic_word in list(toxic_word_dict.keys())[:10]:  # Sprawdzamy tylko 10 najczęstszych toksycznych słów\n",
        "    if toxic_word in model_toxic.wv:\n",
        "        similar_toxic_words[toxic_word] = model_toxic.wv.most_similar(toxic_word, topn=5)\n",
        "\n",
        "\n",
        "# Wyświetlenie podobnych słów\n",
        "print(\"\\nSłowa o podobnej wymowie toksycznej:\")\n",
        "for word, similar_words in similar_toxic_words.items():\n",
        "    print(f\"{word}: {[sim[0] for sim in similar_words]}\")"
      ],
      "metadata": {
        "colab": {
          "base_uri": "https://localhost:8080/"
        },
        "id": "GRLmEpvO5OiF",
        "outputId": "e41872b3-8843-42ab-f83d-73858ce9a7b0"
      },
      "execution_count": 108,
      "outputs": [
        {
          "output_type": "stream",
          "name": "stdout",
          "text": [
            "\n",
            "Słowa o podobnej wymowie toksycznej:\n",
            "believable: ['whites', 'aliens', 'canada', 'maybe', 'little']\n",
            "ignorant: ['canadians', 'make', 'social', 'conservative', 'canadian']\n",
            "condescension: ['watch', 'attorney', 'solution', 'ask', 'never']\n"
          ]
        }
      ]
    },
    {
      "cell_type": "markdown",
      "source": [
        "Wyniki nie są najlepsze z uwagi na brak odpowiednich danych treningowych\n"
      ],
      "metadata": {
        "id": "3fO35KTQ5WDr"
      }
    }
  ]
}